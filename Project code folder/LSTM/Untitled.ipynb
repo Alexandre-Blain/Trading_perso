{
 "cells": [
  {
   "cell_type": "code",
   "execution_count": 3,
   "id": "9e39edef",
   "metadata": {},
   "outputs": [],
   "source": [
    "import pickle\n",
    "\n",
    "import pandas as pd"
   ]
  },
  {
   "cell_type": "code",
   "execution_count": 3,
   "id": "58d62d74",
   "metadata": {},
   "outputs": [],
   "source": [
    "with open('C:/Users/alexa/OneDrive/Bureau/Python trading/Project code folder/dic_df_canaux.pickle', 'rb') as handle:\n",
    "    dic_data = pickle.load(handle)"
   ]
  },
  {
   "cell_type": "code",
   "execution_count": 6,
   "outputs": [],
   "source": [
    "test = list(dic_data)"
   ],
   "metadata": {
    "collapsed": false
   }
  },
  {
   "cell_type": "code",
   "execution_count": 13,
   "outputs": [
    {
     "data": {
      "text/plain": "1609"
     },
     "execution_count": 13,
     "metadata": {},
     "output_type": "execute_result"
    }
   ],
   "source": [
    "len(test)"
   ],
   "metadata": {
    "collapsed": false
   }
  },
  {
   "cell_type": "code",
   "execution_count": 21,
   "outputs": [],
   "source": [
    "test = list(dic_data.items())"
   ],
   "metadata": {
    "collapsed": false
   }
  },
  {
   "cell_type": "code",
   "execution_count": 26,
   "outputs": [
    {
     "data": {
      "text/plain": "35"
     },
     "execution_count": 26,
     "metadata": {},
     "output_type": "execute_result"
    }
   ],
   "source": [
    "len(df_test)"
   ],
   "metadata": {
    "collapsed": false
   }
  },
  {
   "cell_type": "code",
   "execution_count": 24,
   "outputs": [
    {
     "data": {
      "text/plain": "                 index  Open price  High price  Low price  Close price  \\\n44 2021-04-08 12:00:00    56421.17    57912.02   56311.77     57768.13   \n45 2021-04-08 16:00:00    57769.00    58153.31   57538.52     57734.94   \n46 2021-04-08 20:00:00    57732.53    58100.00   57449.04     58077.52   \n47 2021-04-09 00:00:00    58077.52    58419.45   57806.03     57985.71   \n48 2021-04-09 04:00:00    57985.71    58314.00   57654.00     58051.42   \n49 2021-04-09 08:00:00    58048.70    58894.90   57669.58     58527.19   \n50 2021-04-09 12:00:00    58527.20    58783.47   58024.00     58240.00   \n51 2021-04-09 16:00:00    58239.99    58528.00   57870.57     58370.59   \n52 2021-04-09 20:00:00    58370.59    58600.00   57873.31     58142.54   \n53 2021-04-10 00:00:00    58142.55    59238.27   57900.01     59229.50   \n54 2021-04-10 04:00:00    59229.50    61500.00   59229.50     60480.40   \n55 2021-04-10 08:00:00    60480.40    60997.18   60338.54     60575.94   \n56 2021-04-10 12:00:00    60575.94    60800.00   59811.74     60247.26   \n57 2021-04-10 16:00:00    60247.26    60550.00   59550.00     59567.38   \n58 2021-04-10 20:00:00    59567.38    59842.63   58374.61     59769.13   \n59 2021-04-11 00:00:00    59769.13    60699.00   59544.94     60268.58   \n60 2021-04-11 04:00:00    60268.58    60328.00   59339.83     59655.49   \n61 2021-04-11 08:00:00    59655.50    60144.70   59450.00     59721.84   \n62 2021-04-11 12:00:00    59721.85    59844.00   59232.52     59645.46   \n63 2021-04-11 16:00:00    59645.45    60190.00   59405.18     59705.53   \n64 2021-04-11 20:00:00    59705.53    60130.57   59433.29     60002.43   \n65 2021-04-12 00:00:00    59998.80    60456.29   59586.01     60368.96   \n66 2021-04-12 04:00:00    60368.95    61300.00   60020.00     60711.01   \n67 2021-04-12 08:00:00    60711.00    60878.25   59350.59     60241.50   \n68 2021-04-12 12:00:00    60241.50    60584.28   59610.96     59986.83   \n69 2021-04-12 16:00:00    59986.82    60223.00   59680.90     60090.41   \n70 2021-04-12 20:00:00    60090.42    60241.32   59759.05     59860.00   \n71 2021-04-13 00:00:00    59860.01    61100.00   59805.15     60493.43   \n72 2021-04-13 04:00:00    60493.43    61415.50   60330.74     61050.99   \n73 2021-04-13 08:00:00    61050.99    63287.88   61046.45     62942.21   \n74 2021-04-13 12:00:00    62942.21    63657.86   62500.00     63331.83   \n75 2021-04-13 16:00:00    63331.83    63777.77   62530.00     62997.02   \n76 2021-04-13 20:00:00    62997.02    63666.00   62842.99     63575.00   \n77 2021-04-14 00:00:00    63575.01    63869.99   63063.32     63749.19   \n78 2021-04-14 04:00:00    63749.19    64854.00   63605.85     64288.80   \n\n          Volume  Quote asset volume  Number of trades  \\\n44  10949.664726        6.288690e+08            313392   \n45   6729.021841        3.890437e+08            317499   \n46   4832.703939        2.791557e+08            207327   \n47   5235.243334        3.042691e+08            233426   \n48   5646.760536        3.275532e+08            228959   \n49   9447.290473        5.507488e+08            373172   \n50   9093.856963        5.312520e+08            322353   \n51   6360.450980        3.704649e+08            246212   \n52   5048.282625        2.940528e+08            211840   \n53   9223.429817        5.409491e+08            317943   \n54  24587.784090        1.490047e+09            691443   \n55   7829.186927        4.748959e+08            342444   \n56   9993.590247        6.025151e+08            363605   \n57   8707.685139        5.227628e+08            381422   \n58   9564.747897        5.659689e+08            373541   \n59   7833.533469        4.719606e+08            296604   \n60   7509.804918        4.488646e+08            285403   \n61   6455.016917        3.856161e+08            304434   \n62   6682.289471        3.980009e+08            287283   \n63   7050.787283        4.212282e+08            312697   \n64   5625.283333        3.363625e+08            259681   \n65   6713.022809        4.023882e+08            247054   \n66  11533.081244        6.989065e+08            362606   \n67  13766.951540        8.287476e+08            396346   \n68  11036.988971        6.640866e+08            340025   \n69   7061.201309        4.231759e+08            247721   \n70   6263.791244        3.757380e+08            212546   \n71  11980.169413        7.258802e+08            287778   \n72  12164.502692        7.395145e+08            398630   \n73  25344.270701        1.585448e+09            765154   \n74  14989.358954        9.436595e+08            469083   \n75  11918.959594        7.527464e+08            415467   \n76   6451.427392        4.076290e+08            367623   \n77   9361.667022        5.933019e+08            309691   \n78  14251.696362        9.158421e+08            500342   \n\n    Taker buy base asset volume  Taker buy quote asset volume  f_trend_close  \n44                  5471.884675                  3.142137e+08       0.023873  \n45                  3454.254941                  1.997254e+08      -0.000575  \n46                  2465.097032                  1.424011e+08       0.005934  \n47                  2651.194021                  1.541005e+08      -0.001581  \n48                  2714.553835                  1.574528e+08       0.001133  \n49                  4868.052483                  2.838545e+08       0.008196  \n50                  4422.566309                  2.583661e+08      -0.004907  \n51                  3189.830720                  1.858132e+08       0.002242  \n52                  2508.037088                  1.460922e+08      -0.003907  \n53                  5098.792558                  2.992730e+08       0.018695  \n54                 13721.694882                  8.309066e+08       0.021120  \n55                  3902.420344                  2.367319e+08       0.001580  \n56                  4851.912987                  2.925159e+08      -0.005426  \n57                  4278.017139                  2.568579e+08      -0.011285  \n58                  4165.799656                  2.465731e+08       0.003387  \n59                  4213.721123                  2.538841e+08       0.008356  \n60                  3841.091558                  2.295587e+08      -0.010173  \n61                  3228.137678                  1.928481e+08       0.001112  \n62                  3154.850651                  1.879211e+08      -0.001279  \n63                  3629.949365                  2.168806e+08       0.001007  \n64                  2730.308404                  1.632566e+08       0.004973  \n65                  3430.701025                  2.056824e+08       0.006109  \n66                  6382.841906                  3.869662e+08       0.005666  \n67                  6504.858919                  3.916928e+08      -0.007734  \n68                  5345.310913                  3.216227e+08      -0.004227  \n69                  3211.886781                  1.924861e+08       0.001727  \n70                  2769.601609                  1.661386e+08      -0.003834  \n71                  5790.952655                  3.509009e+08       0.010582  \n72                  6031.085474                  3.667878e+08       0.009217  \n73                 13616.479587                  8.515746e+08       0.030978  \n74                  7112.559421                  4.478757e+08       0.006190  \n75                  5827.072631                  3.680486e+08      -0.005287  \n76                  3284.383260                  2.075369e+08       0.009175  \n77                  4789.358235                  3.035643e+08       0.002740  \n78                  7340.358891                  4.717299e+08       0.008465  ",
      "text/html": "<div>\n<style scoped>\n    .dataframe tbody tr th:only-of-type {\n        vertical-align: middle;\n    }\n\n    .dataframe tbody tr th {\n        vertical-align: top;\n    }\n\n    .dataframe thead th {\n        text-align: right;\n    }\n</style>\n<table border=\"1\" class=\"dataframe\">\n  <thead>\n    <tr style=\"text-align: right;\">\n      <th></th>\n      <th>index</th>\n      <th>Open price</th>\n      <th>High price</th>\n      <th>Low price</th>\n      <th>Close price</th>\n      <th>Volume</th>\n      <th>Quote asset volume</th>\n      <th>Number of trades</th>\n      <th>Taker buy base asset volume</th>\n      <th>Taker buy quote asset volume</th>\n      <th>f_trend_close</th>\n    </tr>\n  </thead>\n  <tbody>\n    <tr>\n      <th>44</th>\n      <td>2021-04-08 12:00:00</td>\n      <td>56421.17</td>\n      <td>57912.02</td>\n      <td>56311.77</td>\n      <td>57768.13</td>\n      <td>10949.664726</td>\n      <td>6.288690e+08</td>\n      <td>313392</td>\n      <td>5471.884675</td>\n      <td>3.142137e+08</td>\n      <td>0.023873</td>\n    </tr>\n    <tr>\n      <th>45</th>\n      <td>2021-04-08 16:00:00</td>\n      <td>57769.00</td>\n      <td>58153.31</td>\n      <td>57538.52</td>\n      <td>57734.94</td>\n      <td>6729.021841</td>\n      <td>3.890437e+08</td>\n      <td>317499</td>\n      <td>3454.254941</td>\n      <td>1.997254e+08</td>\n      <td>-0.000575</td>\n    </tr>\n    <tr>\n      <th>46</th>\n      <td>2021-04-08 20:00:00</td>\n      <td>57732.53</td>\n      <td>58100.00</td>\n      <td>57449.04</td>\n      <td>58077.52</td>\n      <td>4832.703939</td>\n      <td>2.791557e+08</td>\n      <td>207327</td>\n      <td>2465.097032</td>\n      <td>1.424011e+08</td>\n      <td>0.005934</td>\n    </tr>\n    <tr>\n      <th>47</th>\n      <td>2021-04-09 00:00:00</td>\n      <td>58077.52</td>\n      <td>58419.45</td>\n      <td>57806.03</td>\n      <td>57985.71</td>\n      <td>5235.243334</td>\n      <td>3.042691e+08</td>\n      <td>233426</td>\n      <td>2651.194021</td>\n      <td>1.541005e+08</td>\n      <td>-0.001581</td>\n    </tr>\n    <tr>\n      <th>48</th>\n      <td>2021-04-09 04:00:00</td>\n      <td>57985.71</td>\n      <td>58314.00</td>\n      <td>57654.00</td>\n      <td>58051.42</td>\n      <td>5646.760536</td>\n      <td>3.275532e+08</td>\n      <td>228959</td>\n      <td>2714.553835</td>\n      <td>1.574528e+08</td>\n      <td>0.001133</td>\n    </tr>\n    <tr>\n      <th>49</th>\n      <td>2021-04-09 08:00:00</td>\n      <td>58048.70</td>\n      <td>58894.90</td>\n      <td>57669.58</td>\n      <td>58527.19</td>\n      <td>9447.290473</td>\n      <td>5.507488e+08</td>\n      <td>373172</td>\n      <td>4868.052483</td>\n      <td>2.838545e+08</td>\n      <td>0.008196</td>\n    </tr>\n    <tr>\n      <th>50</th>\n      <td>2021-04-09 12:00:00</td>\n      <td>58527.20</td>\n      <td>58783.47</td>\n      <td>58024.00</td>\n      <td>58240.00</td>\n      <td>9093.856963</td>\n      <td>5.312520e+08</td>\n      <td>322353</td>\n      <td>4422.566309</td>\n      <td>2.583661e+08</td>\n      <td>-0.004907</td>\n    </tr>\n    <tr>\n      <th>51</th>\n      <td>2021-04-09 16:00:00</td>\n      <td>58239.99</td>\n      <td>58528.00</td>\n      <td>57870.57</td>\n      <td>58370.59</td>\n      <td>6360.450980</td>\n      <td>3.704649e+08</td>\n      <td>246212</td>\n      <td>3189.830720</td>\n      <td>1.858132e+08</td>\n      <td>0.002242</td>\n    </tr>\n    <tr>\n      <th>52</th>\n      <td>2021-04-09 20:00:00</td>\n      <td>58370.59</td>\n      <td>58600.00</td>\n      <td>57873.31</td>\n      <td>58142.54</td>\n      <td>5048.282625</td>\n      <td>2.940528e+08</td>\n      <td>211840</td>\n      <td>2508.037088</td>\n      <td>1.460922e+08</td>\n      <td>-0.003907</td>\n    </tr>\n    <tr>\n      <th>53</th>\n      <td>2021-04-10 00:00:00</td>\n      <td>58142.55</td>\n      <td>59238.27</td>\n      <td>57900.01</td>\n      <td>59229.50</td>\n      <td>9223.429817</td>\n      <td>5.409491e+08</td>\n      <td>317943</td>\n      <td>5098.792558</td>\n      <td>2.992730e+08</td>\n      <td>0.018695</td>\n    </tr>\n    <tr>\n      <th>54</th>\n      <td>2021-04-10 04:00:00</td>\n      <td>59229.50</td>\n      <td>61500.00</td>\n      <td>59229.50</td>\n      <td>60480.40</td>\n      <td>24587.784090</td>\n      <td>1.490047e+09</td>\n      <td>691443</td>\n      <td>13721.694882</td>\n      <td>8.309066e+08</td>\n      <td>0.021120</td>\n    </tr>\n    <tr>\n      <th>55</th>\n      <td>2021-04-10 08:00:00</td>\n      <td>60480.40</td>\n      <td>60997.18</td>\n      <td>60338.54</td>\n      <td>60575.94</td>\n      <td>7829.186927</td>\n      <td>4.748959e+08</td>\n      <td>342444</td>\n      <td>3902.420344</td>\n      <td>2.367319e+08</td>\n      <td>0.001580</td>\n    </tr>\n    <tr>\n      <th>56</th>\n      <td>2021-04-10 12:00:00</td>\n      <td>60575.94</td>\n      <td>60800.00</td>\n      <td>59811.74</td>\n      <td>60247.26</td>\n      <td>9993.590247</td>\n      <td>6.025151e+08</td>\n      <td>363605</td>\n      <td>4851.912987</td>\n      <td>2.925159e+08</td>\n      <td>-0.005426</td>\n    </tr>\n    <tr>\n      <th>57</th>\n      <td>2021-04-10 16:00:00</td>\n      <td>60247.26</td>\n      <td>60550.00</td>\n      <td>59550.00</td>\n      <td>59567.38</td>\n      <td>8707.685139</td>\n      <td>5.227628e+08</td>\n      <td>381422</td>\n      <td>4278.017139</td>\n      <td>2.568579e+08</td>\n      <td>-0.011285</td>\n    </tr>\n    <tr>\n      <th>58</th>\n      <td>2021-04-10 20:00:00</td>\n      <td>59567.38</td>\n      <td>59842.63</td>\n      <td>58374.61</td>\n      <td>59769.13</td>\n      <td>9564.747897</td>\n      <td>5.659689e+08</td>\n      <td>373541</td>\n      <td>4165.799656</td>\n      <td>2.465731e+08</td>\n      <td>0.003387</td>\n    </tr>\n    <tr>\n      <th>59</th>\n      <td>2021-04-11 00:00:00</td>\n      <td>59769.13</td>\n      <td>60699.00</td>\n      <td>59544.94</td>\n      <td>60268.58</td>\n      <td>7833.533469</td>\n      <td>4.719606e+08</td>\n      <td>296604</td>\n      <td>4213.721123</td>\n      <td>2.538841e+08</td>\n      <td>0.008356</td>\n    </tr>\n    <tr>\n      <th>60</th>\n      <td>2021-04-11 04:00:00</td>\n      <td>60268.58</td>\n      <td>60328.00</td>\n      <td>59339.83</td>\n      <td>59655.49</td>\n      <td>7509.804918</td>\n      <td>4.488646e+08</td>\n      <td>285403</td>\n      <td>3841.091558</td>\n      <td>2.295587e+08</td>\n      <td>-0.010173</td>\n    </tr>\n    <tr>\n      <th>61</th>\n      <td>2021-04-11 08:00:00</td>\n      <td>59655.50</td>\n      <td>60144.70</td>\n      <td>59450.00</td>\n      <td>59721.84</td>\n      <td>6455.016917</td>\n      <td>3.856161e+08</td>\n      <td>304434</td>\n      <td>3228.137678</td>\n      <td>1.928481e+08</td>\n      <td>0.001112</td>\n    </tr>\n    <tr>\n      <th>62</th>\n      <td>2021-04-11 12:00:00</td>\n      <td>59721.85</td>\n      <td>59844.00</td>\n      <td>59232.52</td>\n      <td>59645.46</td>\n      <td>6682.289471</td>\n      <td>3.980009e+08</td>\n      <td>287283</td>\n      <td>3154.850651</td>\n      <td>1.879211e+08</td>\n      <td>-0.001279</td>\n    </tr>\n    <tr>\n      <th>63</th>\n      <td>2021-04-11 16:00:00</td>\n      <td>59645.45</td>\n      <td>60190.00</td>\n      <td>59405.18</td>\n      <td>59705.53</td>\n      <td>7050.787283</td>\n      <td>4.212282e+08</td>\n      <td>312697</td>\n      <td>3629.949365</td>\n      <td>2.168806e+08</td>\n      <td>0.001007</td>\n    </tr>\n    <tr>\n      <th>64</th>\n      <td>2021-04-11 20:00:00</td>\n      <td>59705.53</td>\n      <td>60130.57</td>\n      <td>59433.29</td>\n      <td>60002.43</td>\n      <td>5625.283333</td>\n      <td>3.363625e+08</td>\n      <td>259681</td>\n      <td>2730.308404</td>\n      <td>1.632566e+08</td>\n      <td>0.004973</td>\n    </tr>\n    <tr>\n      <th>65</th>\n      <td>2021-04-12 00:00:00</td>\n      <td>59998.80</td>\n      <td>60456.29</td>\n      <td>59586.01</td>\n      <td>60368.96</td>\n      <td>6713.022809</td>\n      <td>4.023882e+08</td>\n      <td>247054</td>\n      <td>3430.701025</td>\n      <td>2.056824e+08</td>\n      <td>0.006109</td>\n    </tr>\n    <tr>\n      <th>66</th>\n      <td>2021-04-12 04:00:00</td>\n      <td>60368.95</td>\n      <td>61300.00</td>\n      <td>60020.00</td>\n      <td>60711.01</td>\n      <td>11533.081244</td>\n      <td>6.989065e+08</td>\n      <td>362606</td>\n      <td>6382.841906</td>\n      <td>3.869662e+08</td>\n      <td>0.005666</td>\n    </tr>\n    <tr>\n      <th>67</th>\n      <td>2021-04-12 08:00:00</td>\n      <td>60711.00</td>\n      <td>60878.25</td>\n      <td>59350.59</td>\n      <td>60241.50</td>\n      <td>13766.951540</td>\n      <td>8.287476e+08</td>\n      <td>396346</td>\n      <td>6504.858919</td>\n      <td>3.916928e+08</td>\n      <td>-0.007734</td>\n    </tr>\n    <tr>\n      <th>68</th>\n      <td>2021-04-12 12:00:00</td>\n      <td>60241.50</td>\n      <td>60584.28</td>\n      <td>59610.96</td>\n      <td>59986.83</td>\n      <td>11036.988971</td>\n      <td>6.640866e+08</td>\n      <td>340025</td>\n      <td>5345.310913</td>\n      <td>3.216227e+08</td>\n      <td>-0.004227</td>\n    </tr>\n    <tr>\n      <th>69</th>\n      <td>2021-04-12 16:00:00</td>\n      <td>59986.82</td>\n      <td>60223.00</td>\n      <td>59680.90</td>\n      <td>60090.41</td>\n      <td>7061.201309</td>\n      <td>4.231759e+08</td>\n      <td>247721</td>\n      <td>3211.886781</td>\n      <td>1.924861e+08</td>\n      <td>0.001727</td>\n    </tr>\n    <tr>\n      <th>70</th>\n      <td>2021-04-12 20:00:00</td>\n      <td>60090.42</td>\n      <td>60241.32</td>\n      <td>59759.05</td>\n      <td>59860.00</td>\n      <td>6263.791244</td>\n      <td>3.757380e+08</td>\n      <td>212546</td>\n      <td>2769.601609</td>\n      <td>1.661386e+08</td>\n      <td>-0.003834</td>\n    </tr>\n    <tr>\n      <th>71</th>\n      <td>2021-04-13 00:00:00</td>\n      <td>59860.01</td>\n      <td>61100.00</td>\n      <td>59805.15</td>\n      <td>60493.43</td>\n      <td>11980.169413</td>\n      <td>7.258802e+08</td>\n      <td>287778</td>\n      <td>5790.952655</td>\n      <td>3.509009e+08</td>\n      <td>0.010582</td>\n    </tr>\n    <tr>\n      <th>72</th>\n      <td>2021-04-13 04:00:00</td>\n      <td>60493.43</td>\n      <td>61415.50</td>\n      <td>60330.74</td>\n      <td>61050.99</td>\n      <td>12164.502692</td>\n      <td>7.395145e+08</td>\n      <td>398630</td>\n      <td>6031.085474</td>\n      <td>3.667878e+08</td>\n      <td>0.009217</td>\n    </tr>\n    <tr>\n      <th>73</th>\n      <td>2021-04-13 08:00:00</td>\n      <td>61050.99</td>\n      <td>63287.88</td>\n      <td>61046.45</td>\n      <td>62942.21</td>\n      <td>25344.270701</td>\n      <td>1.585448e+09</td>\n      <td>765154</td>\n      <td>13616.479587</td>\n      <td>8.515746e+08</td>\n      <td>0.030978</td>\n    </tr>\n    <tr>\n      <th>74</th>\n      <td>2021-04-13 12:00:00</td>\n      <td>62942.21</td>\n      <td>63657.86</td>\n      <td>62500.00</td>\n      <td>63331.83</td>\n      <td>14989.358954</td>\n      <td>9.436595e+08</td>\n      <td>469083</td>\n      <td>7112.559421</td>\n      <td>4.478757e+08</td>\n      <td>0.006190</td>\n    </tr>\n    <tr>\n      <th>75</th>\n      <td>2021-04-13 16:00:00</td>\n      <td>63331.83</td>\n      <td>63777.77</td>\n      <td>62530.00</td>\n      <td>62997.02</td>\n      <td>11918.959594</td>\n      <td>7.527464e+08</td>\n      <td>415467</td>\n      <td>5827.072631</td>\n      <td>3.680486e+08</td>\n      <td>-0.005287</td>\n    </tr>\n    <tr>\n      <th>76</th>\n      <td>2021-04-13 20:00:00</td>\n      <td>62997.02</td>\n      <td>63666.00</td>\n      <td>62842.99</td>\n      <td>63575.00</td>\n      <td>6451.427392</td>\n      <td>4.076290e+08</td>\n      <td>367623</td>\n      <td>3284.383260</td>\n      <td>2.075369e+08</td>\n      <td>0.009175</td>\n    </tr>\n    <tr>\n      <th>77</th>\n      <td>2021-04-14 00:00:00</td>\n      <td>63575.01</td>\n      <td>63869.99</td>\n      <td>63063.32</td>\n      <td>63749.19</td>\n      <td>9361.667022</td>\n      <td>5.933019e+08</td>\n      <td>309691</td>\n      <td>4789.358235</td>\n      <td>3.035643e+08</td>\n      <td>0.002740</td>\n    </tr>\n    <tr>\n      <th>78</th>\n      <td>2021-04-14 04:00:00</td>\n      <td>63749.19</td>\n      <td>64854.00</td>\n      <td>63605.85</td>\n      <td>64288.80</td>\n      <td>14251.696362</td>\n      <td>9.158421e+08</td>\n      <td>500342</td>\n      <td>7340.358891</td>\n      <td>4.717299e+08</td>\n      <td>0.008465</td>\n    </tr>\n  </tbody>\n</table>\n</div>"
     },
     "execution_count": 24,
     "metadata": {},
     "output_type": "execute_result"
    }
   ],
   "source": [
    "df_test = test[0][1]\n",
    "df_test"
   ],
   "metadata": {
    "collapsed": false
   }
  },
  {
   "cell_type": "code",
   "execution_count": 1,
   "outputs": [
    {
     "ename": "NameError",
     "evalue": "name 'df_test' is not defined",
     "output_type": "error",
     "traceback": [
      "\u001B[1;31m---------------------------------------------------------------------------\u001B[0m",
      "\u001B[1;31mNameError\u001B[0m                                 Traceback (most recent call last)",
      "\u001B[1;32m<ipython-input-1-5418cae61a6f>\u001B[0m in \u001B[0;36m<module>\u001B[1;34m\u001B[0m\n\u001B[1;32m----> 1\u001B[1;33m \u001B[0mdf_test\u001B[0m\u001B[1;33m\u001B[0m\u001B[1;33m\u001B[0m\u001B[0m\n\u001B[0m",
      "\u001B[1;31mNameError\u001B[0m: name 'df_test' is not defined"
     ]
    }
   ],
   "source": [
    "df = pd.DataFrame({\"A\"})"
   ],
   "metadata": {
    "collapsed": false
   }
  },
  {
   "cell_type": "code",
   "execution_count": 43,
   "outputs": [],
   "source": [
    "df_test['max_price'] = df_test['High price'].shift(-1)[::-1].rolling(10).max()[::-1]"
   ],
   "metadata": {
    "collapsed": false
   }
  },
  {
   "cell_type": "code",
   "execution_count": 52,
   "outputs": [
    {
     "ename": "TypeError",
     "evalue": "'Timestamp' object is not subscriptable",
     "output_type": "error",
     "traceback": [
      "\u001B[1;31m---------------------------------------------------------------------------\u001B[0m",
      "\u001B[1;31mTypeError\u001B[0m                                 Traceback (most recent call last)",
      "\u001B[1;32m<ipython-input-52-0d22704121ac>\u001B[0m in \u001B[0;36m<module>\u001B[1;34m\u001B[0m\n\u001B[1;32m----> 1\u001B[1;33m \u001B[0ml\u001B[0m \u001B[1;33m=\u001B[0m \u001B[0mdf_test\u001B[0m\u001B[1;33m[\u001B[0m\u001B[1;34m'index'\u001B[0m\u001B[1;33m]\u001B[0m\u001B[1;33m.\u001B[0m\u001B[0miloc\u001B[0m\u001B[1;33m[\u001B[0m\u001B[1;36m10\u001B[0m\u001B[1;33m]\u001B[0m\u001B[1;33m[\u001B[0m\u001B[1;36m0\u001B[0m\u001B[1;33m]\u001B[0m\u001B[1;33m\u001B[0m\u001B[1;33m\u001B[0m\u001B[0m\n\u001B[0m",
      "\u001B[1;31mTypeError\u001B[0m: 'Timestamp' object is not subscriptable"
     ]
    }
   ],
   "source": [
    "l = df_test['index'].iloc[10]"
   ],
   "metadata": {
    "collapsed": false
   }
  },
  {
   "cell_type": "code",
   "execution_count": 57,
   "outputs": [],
   "source": [
    "sub_list = []\n",
    "liste = []"
   ],
   "metadata": {
    "collapsed": false
   }
  },
  {
   "cell_type": "code",
   "execution_count": 58,
   "outputs": [],
   "source": [
    "sub_list.extend(['btc', 5, 6])"
   ],
   "metadata": {
    "collapsed": false
   }
  },
  {
   "cell_type": "code",
   "execution_count": 56,
   "outputs": [
    {
     "data": {
      "text/plain": "list"
     },
     "execution_count": 56,
     "metadata": {},
     "output_type": "execute_result"
    }
   ],
   "source": [
    "type(sub_list)"
   ],
   "metadata": {
    "collapsed": false
   }
  },
  {
   "cell_type": "code",
   "execution_count": 61,
   "outputs": [],
   "source": [
    "liste.append(sub_list)"
   ],
   "metadata": {
    "collapsed": false
   }
  },
  {
   "cell_type": "code",
   "execution_count": 64,
   "outputs": [
    {
     "data": {
      "text/plain": "'btc'"
     },
     "execution_count": 64,
     "metadata": {},
     "output_type": "execute_result"
    }
   ],
   "source": [
    "liste[0][0]"
   ],
   "metadata": {
    "collapsed": false
   }
  },
  {
   "cell_type": "code",
   "execution_count": 65,
   "outputs": [
    {
     "data": {
      "text/plain": "2"
     },
     "execution_count": 65,
     "metadata": {},
     "output_type": "execute_result"
    }
   ],
   "source": [
    "len(liste)"
   ],
   "metadata": {
    "collapsed": false
   }
  },
  {
   "cell_type": "code",
   "execution_count": null,
   "outputs": [],
   "source": [],
   "metadata": {
    "collapsed": false
   }
  }
 ],
 "metadata": {
  "kernelspec": {
   "display_name": "Python 3",
   "language": "python",
   "name": "python3"
  },
  "language_info": {
   "codemirror_mode": {
    "name": "ipython",
    "version": 3
   },
   "file_extension": ".py",
   "mimetype": "text/x-python",
   "name": "python",
   "nbconvert_exporter": "python",
   "pygments_lexer": "ipython3",
   "version": "3.8.8"
  }
 },
 "nbformat": 4,
 "nbformat_minor": 5
}
